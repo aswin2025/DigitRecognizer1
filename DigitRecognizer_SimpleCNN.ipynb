{
 "cells": [
  {
   "cell_type": "markdown",
   "metadata": {},
   "source": [
    "# Load MNIST Dataset of Digital hand writing"
   ]
  },
  {
   "cell_type": "code",
   "execution_count": 1,
   "metadata": {},
   "outputs": [
    {
     "name": "stderr",
     "output_type": "stream",
     "text": [
      "Using TensorFlow backend.\n"
     ]
    }
   ],
   "source": [
    "#Plot adhoc mnist instances\n",
    "from keras.datasets import mnist\n",
    "import matplotlib.pyplot as plt"
   ]
  },
  {
   "cell_type": "code",
   "execution_count": 2,
   "metadata": {},
   "outputs": [
    {
     "name": "stdout",
     "output_type": "stream",
     "text": [
      "Downloading data from https://s3.amazonaws.com/img-datasets/mnist.npz\n",
      "11493376/11490434 [==============================] - 0s 0us/step\n",
      "[5 0 4 ... 5 6 8]\n"
     ]
    }
   ],
   "source": [
    "# load (downloaded if needed) the MNIST dataset\n",
    "(X_train, y_train), (X_test, y_test) = mnist.load_data()\n",
    "# Print Predicted digits vector\n",
    "print (y_train)"
   ]
  },
  {
   "cell_type": "code",
   "execution_count": 3,
   "metadata": {},
   "outputs": [
    {
     "name": "stdout",
     "output_type": "stream",
     "text": [
      "X_train - training input size (60000, 28, 28)\n",
      "y_train - training result size (60000,)\n",
      "\n",
      "X_test - Validation input size (10000, 28, 28)\n",
      "y_test - Validation result size (10000,)\n"
     ]
    }
   ],
   "source": [
    "print (\"X_train - training input size {}\".format(X_train.shape))\n",
    "print (\"y_train - training result size {}\\n\".format(y_train.shape))\n",
    "\n",
    "print (\"X_test - Validation input size {}\".format(X_test.shape))\n",
    "print (\"y_test - Validation result size {}\".format(y_test.shape))"
   ]
  },
  {
   "cell_type": "code",
   "execution_count": 4,
   "metadata": {},
   "outputs": [
    {
     "data": {
      "image/png": "[encoded data removed]",
      "text/plain": [
       "<Figure size 432x288 with 4 Axes>"
      ]
     },
     "metadata": {
      "needs_background": "light"
     },
     "output_type": "display_data"
    }
   ],
   "source": [
    "# E.g. Plot 4 images as gray scale\n",
    "plt.subplot(221)\n",
    "plt.imshow(X_train[0], cmap=plt.get_cmap('gray'))\n",
    "plt.subplot(222)\n",
    "plt.imshow(X_train[1], cmap=plt.get_cmap('gray'))\n",
    "plt.subplot(223)\n",
    "plt.imshow(X_train[2], cmap=plt.get_cmap('gray'))\n",
    "plt.subplot(224)\n",
    "plt.imshow(X_train[3], cmap=plt.get_cmap('gray'))\n",
    "# Show the plot\n",
    "plt.show()"
   ]
  },
  {
   "cell_type": "markdown",
   "metadata": {},
   "source": [
    "# Create a simple Artificial Neural Network for Training"
   ]
  },
  {
   "cell_type": "code",
   "execution_count": 5,
   "metadata": {},
   "outputs": [],
   "source": [
    "import numpy\n",
    "from keras.datasets import mnist\n",
    "from keras.models import Sequential\n",
    "from keras.layers import Dense\n",
    "from keras.layers import Dropout\n",
    "from keras.utils import np_utils"
   ]
  },
  {
   "cell_type": "code",
   "execution_count": 6,
   "metadata": {},
   "outputs": [],
   "source": [
    "# fix random seed for reproducibility\n",
    "seed = 7\n",
    "numpy.random.seed(seed)"
   ]
  },
  {
   "cell_type": "markdown",
   "metadata": {},
   "source": [
    "# Load Data"
   ]
  },
  {
   "cell_type": "code",
   "execution_count": 7,
   "metadata": {},
   "outputs": [],
   "source": [
    "# Load data\n",
    "(X_train, y_train), (X_test, y_test) = mnist.load_data()\n",
    "X_trainOrig = X_train\n",
    "X_testOrig = X_test"
   ]
  },
  {
   "cell_type": "markdown",
   "metadata": {},
   "source": [
    "# Preprocess Data - Flatten "
   ]
  },
  {
   "cell_type": "code",
   "execution_count": 8,
   "metadata": {},
   "outputs": [
    {
     "name": "stdout",
     "output_type": "stream",
     "text": [
      "Training matrix size X_train = (60000, 784), test matrix size X_test = (10000, 784)\n"
     ]
    }
   ],
   "source": [
    "# Flatten 28x28 images to a 784 vector for each image\n",
    "num_pixels = X_train.shape[1] * X_train.shape[2] # 28 * 28 = 784 pixels\n",
    "X_train = X_train.reshape(X_train.shape[0], num_pixels).astype('float32')\n",
    "X_test = X_test.reshape(X_test.shape[0], num_pixels).astype('float32')\n",
    "\n",
    "print (\"Training matrix size X_train = {}, test matrix size X_test = {}\".format(X_train.shape, X_test.shape))"
   ]
  },
  {
   "cell_type": "markdown",
   "metadata": {},
   "source": [
    "# Preprocess Data - Normalize Pixel values"
   ]
  },
  {
   "cell_type": "code",
   "execution_count": 9,
   "metadata": {},
   "outputs": [
    {
     "name": "stdout",
     "output_type": "stream",
     "text": [
      "Max pixel value before Normalization = 255.0\n",
      "Max pixel value post Normalization= 1.0\n"
     ]
    }
   ],
   "source": [
    "# Normalize inputs from 0-255 to 0-1\n",
    "print (\"Max pixel value before Normalization = {}\".format(X_train.max())) # 255 is the max\n",
    "\n",
    "X_train = X_train / 255\n",
    "X_test = X_test / 255\n",
    "\n",
    "print (\"Max pixel value post Normalization= {}\".format(X_train.max())) # 1 is the max"
   ]
  },
  {
   "cell_type": "markdown",
   "metadata": {},
   "source": [
    "# Preprocess Data - Convert Ground truth to One hot encoding"
   ]
  },
  {
   "cell_type": "code",
   "execution_count": 10,
   "metadata": {},
   "outputs": [
    {
     "name": "stdout",
     "output_type": "stream",
     "text": [
      "Number of classes - 10\n"
     ]
    }
   ],
   "source": [
    "# One hot encode outputs (i.e. convert number into array, i.e. 5 - [0 0 0 0 1 0 0 0 0 0] to handle one vs all)\n",
    "\n",
    "y_train = np_utils.to_categorical(y_train)\n",
    "y_test = np_utils.to_categorical(y_test)\n",
    "\n",
    "num_classes = y_test.shape[1] # Now shape is 10000 x 10 as each number is converted as array\n",
    "\n",
    "print (\"Number of classes - {}\".format(num_classes))"
   ]
  },
  {
   "cell_type": "markdown",
   "metadata": {},
   "source": [
    "# Model Creation Class\n",
    "simple neural network with one hidden layer with the same number of neurons as there are inputs (784). A rectifier activation function is used for the neurons in the hidden layer. \n",
    "A softmax activation function is used on the output layer to turn the outputs into probability-like values and allow one class of the 10 to be selected as the model’s output prediction. \n",
    "Logarithmic loss is used as the loss function (called categorical_crossentropy in Keras) and the efficient ADAM gradient descent algorithm is used to learn the weights."
   ]
  },
  {
   "cell_type": "code",
   "execution_count": 11,
   "metadata": {},
   "outputs": [],
   "source": [
    "# Define the base model\n",
    "def baseline_model(num_pixels, num_classes):\n",
    "    # Create Model\n",
    "    model = Sequential()\n",
    "    model.add(Dense(num_pixels, input_dim=num_pixels, kernel_initializer='normal', activation ='relu'))\n",
    "    model.add(Dense(num_classes, kernel_initializer='normal', activation = 'softmax'))\n",
    "    # Compile model\n",
    "    model.compile(loss='categorical_crossentropy', optimizer='adam', metrics=['accuracy'])\n",
    "    return model            "
   ]
  },
  {
   "cell_type": "code",
   "execution_count": 12,
   "metadata": {},
   "outputs": [],
   "source": [
    "# build the model\n",
    "model = baseline_model(num_pixels, num_classes)"
   ]
  },
  {
   "cell_type": "markdown",
   "metadata": {},
   "source": [
    "# Train the Model"
   ]
  },
  {
   "cell_type": "code",
   "execution_count": 13,
   "metadata": {},
   "outputs": [
    {
     "name": "stdout",
     "output_type": "stream",
     "text": [
      "Train on 60000 samples, validate on 10000 samples\n",
      "Epoch 1/10\n",
      " - 3s - loss: 0.2783 - acc: 0.9210 - val_loss: 0.1414 - val_acc: 0.9576\n",
      "Epoch 2/10\n",
      " - 3s - loss: 0.1116 - acc: 0.9676 - val_loss: 0.0924 - val_acc: 0.9706\n",
      "Epoch 3/10\n",
      " - 3s - loss: 0.0718 - acc: 0.9796 - val_loss: 0.0783 - val_acc: 0.9771\n",
      "Epoch 4/10\n",
      " - 3s - loss: 0.0504 - acc: 0.9857 - val_loss: 0.0741 - val_acc: 0.9769\n",
      "Epoch 5/10\n",
      " - 3s - loss: 0.0374 - acc: 0.9892 - val_loss: 0.0668 - val_acc: 0.9795\n",
      "Epoch 6/10\n",
      " - 3s - loss: 0.0270 - acc: 0.9926 - val_loss: 0.0624 - val_acc: 0.9804\n",
      "Epoch 7/10\n",
      " - 3s - loss: 0.0208 - acc: 0.9947 - val_loss: 0.0619 - val_acc: 0.9808\n",
      "Epoch 8/10\n",
      " - 3s - loss: 0.0140 - acc: 0.9970 - val_loss: 0.0644 - val_acc: 0.9797\n",
      "Epoch 9/10\n",
      " - 3s - loss: 0.0107 - acc: 0.9977 - val_loss: 0.0587 - val_acc: 0.9812\n",
      "Epoch 10/10\n",
      " - 3s - loss: 0.0081 - acc: 0.9985 - val_loss: 0.0578 - val_acc: 0.9821\n",
      "CPU times: user 2min 20s, sys: 1min 11s, total: 3min 31s\n",
      "Wall time: 27.2 s\n"
     ]
    },
    {
     "data": {
      "text/plain": [
       "<keras.callbacks.History at 0x7f35de16ac88>"
      ]
     },
     "execution_count": 13,
     "metadata": {},
     "output_type": "execute_result"
    }
   ],
   "source": [
    "%%time\n",
    "# Fit the model\n",
    "model.fit(X_train, y_train, validation_data=(X_test, y_test), epochs = 10, batch_size=200, verbose=2)\n"
   ]
  },
  {
   "cell_type": "markdown",
   "metadata": {},
   "source": [
    "# Evaluate the Model against Test Data\n",
    "Test data and validation is used as the same. But, this should be ideally different"
   ]
  },
  {
   "cell_type": "code",
   "execution_count": 14,
   "metadata": {},
   "outputs": [
    {
     "name": "stdout",
     "output_type": "stream",
     "text": [
      "[0.05781533238754491, 0.9821]\n",
      "Baseline Error: 1.79%\n"
     ]
    }
   ],
   "source": [
    "# Final evaluation of the model\n",
    "scores = model.evaluate(X_test, y_test, verbose=0)\n",
    "print (scores)\n",
    "print (\"Baseline Error: %.2f%%\" % (100-scores[1]*100))"
   ]
  },
  {
   "cell_type": "markdown",
   "metadata": {},
   "source": [
    "# Save the Model"
   ]
  },
  {
   "cell_type": "code",
   "execution_count": 15,
   "metadata": {},
   "outputs": [],
   "source": [
    "model.save(\"kerasDigitRecognizer.h5\")"
   ]
  },
  {
   "cell_type": "markdown",
   "metadata": {},
   "source": [
    "# Sample Visual Test: Picking one of the inputs from Training data"
   ]
  },
  {
   "cell_type": "code",
   "execution_count": 16,
   "metadata": {},
   "outputs": [
    {
     "data": {
      "image/png": "[encoded data removed]",
      "text/plain": [
       "<Figure size 432x288 with 1 Axes>"
      ]
     },
     "metadata": {
      "needs_background": "light"
     },
     "output_type": "display_data"
    },
    {
     "name": "stdout",
     "output_type": "stream",
     "text": [
      "Prediction for the input image is 6\n"
     ]
    }
   ],
   "source": [
    "testInput = X_trainOrig[506]\n",
    "plt.imshow(testInput, cmap=plt.get_cmap('gray'))\n",
    "plt.show()\n",
    "# Preprocess - Flatten\n",
    "nrPixels = testInput.shape[0] * X_train.shape[1] # 28 * 28 = 784 pixels\n",
    "testInput_processed = testInput.reshape(1, num_pixels).astype('float32')\n",
    "# Preprocess - Normalization\n",
    "testInput_processed = testInput_processed/ 255\n",
    "# Prediction\n",
    "pred = model.predict(testInput_processed)\n",
    "print (\"Prediction for the input image is {}\".format(pred.argmax()))"
   ]
  },
  {
   "cell_type": "code",
   "execution_count": null,
   "metadata": {},
   "outputs": [],
   "source": []
  }
 ],
 "metadata": {
  "kernelspec": {
   "display_name": "Python 3",
   "language": "python",
   "name": "python3"
  },
  "language_info": {
   "codemirror_mode": {
    "name": "ipython",
    "version": 3
   },
   "file_extension": ".py",
   "mimetype": "text/x-python",
   "name": "python",
   "nbconvert_exporter": "python",
   "pygments_lexer": "ipython3",
   "version": "3.5.6"
  }
 },
 "nbformat": 4,
 "nbformat_minor": 2
}
